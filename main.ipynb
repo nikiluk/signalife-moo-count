{
 "cells": [
  {
   "cell_type": "code",
   "execution_count": 1,
   "metadata": {},
   "outputs": [
    {
     "name": "stdout",
     "output_type": "stream",
     "text": [
      "143.8009557723999\n"
     ]
    }
   ],
   "source": [
    "# libraries\n",
    "import pandas as pd\n",
    "import numpy as np\n",
    "import matplotlib.pyplot as plt\n",
    "import time\n",
    "\n",
    "start_time = time.time()\n",
    "input = pd.read_excel('data/2016-03-09_cells_merged_hemispheres.xlsx', 0)\n",
    "elapsed_time = time.time() - start_time\n",
    "print(elapsed_time)"
   ]
  },
  {
   "cell_type": "code",
   "execution_count": 15,
   "metadata": {},
   "outputs": [
    {
     "data": {
      "text/html": [
       "<div>\n",
       "<table border=\"1\" class=\"dataframe\">\n",
       "  <thead>\n",
       "    <tr style=\"text-align: right;\">\n",
       "      <th></th>\n",
       "      <th></th>\n",
       "      <th>Label</th>\n",
       "      <th>Area</th>\n",
       "      <th>X</th>\n",
       "      <th>Y</th>\n",
       "      <th>XM</th>\n",
       "      <th>YM</th>\n",
       "      <th>Perim.</th>\n",
       "      <th>BX</th>\n",
       "      <th>BY</th>\n",
       "      <th>...</th>\n",
       "      <th>FeretAngle</th>\n",
       "      <th>MinFeret</th>\n",
       "      <th>AR</th>\n",
       "      <th>Round</th>\n",
       "      <th>Solidity</th>\n",
       "      <th>Hemisphere</th>\n",
       "      <th>ROI</th>\n",
       "      <th>Genotype</th>\n",
       "      <th>ID</th>\n",
       "      <th>Z-slices</th>\n",
       "    </tr>\n",
       "  </thead>\n",
       "  <tbody>\n",
       "    <tr>\n",
       "      <th>82975</th>\n",
       "      <td>39</td>\n",
       "      <td>EWECDW_10x_id9334_f-f_cre-pos_slide-1_slice-3....</td>\n",
       "      <td>28.723</td>\n",
       "      <td>1472.477</td>\n",
       "      <td>4181.911</td>\n",
       "      <td>1472.477</td>\n",
       "      <td>4181.911</td>\n",
       "      <td>18.087</td>\n",
       "      <td>1469.571</td>\n",
       "      <td>4179.005</td>\n",
       "      <td>...</td>\n",
       "      <td>45.000</td>\n",
       "      <td>5.535</td>\n",
       "      <td>1.137</td>\n",
       "      <td>0.880</td>\n",
       "      <td>0.968</td>\n",
       "      <td>right</td>\n",
       "      <td>13</td>\n",
       "      <td>f-f_cre-pos</td>\n",
       "      <td>id9334</td>\n",
       "      <td>49</td>\n",
       "    </tr>\n",
       "    <tr>\n",
       "      <th>82976</th>\n",
       "      <td>40</td>\n",
       "      <td>EWECDW_10x_id9334_f-f_cre-pos_slide-1_slice-3....</td>\n",
       "      <td>38.297</td>\n",
       "      <td>1652.921</td>\n",
       "      <td>4181.773</td>\n",
       "      <td>1652.921</td>\n",
       "      <td>4181.773</td>\n",
       "      <td>21.666</td>\n",
       "      <td>1649.462</td>\n",
       "      <td>4179.005</td>\n",
       "      <td>...</td>\n",
       "      <td>141.340</td>\n",
       "      <td>5.535</td>\n",
       "      <td>1.250</td>\n",
       "      <td>0.800</td>\n",
       "      <td>1.000</td>\n",
       "      <td>right</td>\n",
       "      <td>13</td>\n",
       "      <td>f-f_cre-pos</td>\n",
       "      <td>id9334</td>\n",
       "      <td>49</td>\n",
       "    </tr>\n",
       "    <tr>\n",
       "      <th>82977</th>\n",
       "      <td>41</td>\n",
       "      <td>EWECDW_10x_id9334_f-f_cre-pos_slide-1_slice-3....</td>\n",
       "      <td>74.679</td>\n",
       "      <td>1594.377</td>\n",
       "      <td>4190.626</td>\n",
       "      <td>1594.377</td>\n",
       "      <td>4190.626</td>\n",
       "      <td>32.597</td>\n",
       "      <td>1588.576</td>\n",
       "      <td>4185.924</td>\n",
       "      <td>...</td>\n",
       "      <td>150.945</td>\n",
       "      <td>8.303</td>\n",
       "      <td>1.898</td>\n",
       "      <td>0.527</td>\n",
       "      <td>0.886</td>\n",
       "      <td>right</td>\n",
       "      <td>13</td>\n",
       "      <td>f-f_cre-pos</td>\n",
       "      <td>id9334</td>\n",
       "      <td>49</td>\n",
       "    </tr>\n",
       "    <tr>\n",
       "      <th>82978</th>\n",
       "      <td>42</td>\n",
       "      <td>EWECDW_10x_id9334_f-f_cre-pos_slide-1_slice-3....</td>\n",
       "      <td>28.723</td>\n",
       "      <td>1439.266</td>\n",
       "      <td>4192.981</td>\n",
       "      <td>1439.266</td>\n",
       "      <td>4192.981</td>\n",
       "      <td>18.087</td>\n",
       "      <td>1436.360</td>\n",
       "      <td>4190.076</td>\n",
       "      <td>...</td>\n",
       "      <td>45.000</td>\n",
       "      <td>5.535</td>\n",
       "      <td>1.137</td>\n",
       "      <td>0.880</td>\n",
       "      <td>0.968</td>\n",
       "      <td>right</td>\n",
       "      <td>13</td>\n",
       "      <td>f-f_cre-pos</td>\n",
       "      <td>id9334</td>\n",
       "      <td>49</td>\n",
       "    </tr>\n",
       "    <tr>\n",
       "      <th>82979</th>\n",
       "      <td>43</td>\n",
       "      <td>EWECDW_10x_id9334_f-f_cre-pos_slide-1_slice-3....</td>\n",
       "      <td>17.234</td>\n",
       "      <td>1565.743</td>\n",
       "      <td>4201.838</td>\n",
       "      <td>1565.743</td>\n",
       "      <td>4201.838</td>\n",
       "      <td>13.363</td>\n",
       "      <td>1563.668</td>\n",
       "      <td>4199.762</td>\n",
       "      <td>...</td>\n",
       "      <td>135.000</td>\n",
       "      <td>4.151</td>\n",
       "      <td>1.000</td>\n",
       "      <td>1.000</td>\n",
       "      <td>1.000</td>\n",
       "      <td>right</td>\n",
       "      <td>13</td>\n",
       "      <td>f-f_cre-pos</td>\n",
       "      <td>id9334</td>\n",
       "      <td>49</td>\n",
       "    </tr>\n",
       "  </tbody>\n",
       "</table>\n",
       "<p>5 rows × 30 columns</p>\n",
       "</div>"
      ]
     },
     "metadata": {},
     "output_type": "execute_result"
    }
   ],
   "source": [
    "input.tail(5)"
   ]
  },
  {
   "cell_type": "code",
   "execution_count": 5,
   "metadata": {},
   "outputs": [],
   "source": [
    "%matplotlib inline\n",
    "import warnings\n",
    "warnings.filterwarnings('ignore')\n",
    "plt.style.use('ggplot')"
   ]
  },
  {
   "cell_type": "code",
   "execution_count": 7,
   "metadata": {},
   "outputs": [
    {
     "name": "stdout",
     "output_type": "stream",
     "text": [
      "CKO\n\n=====================================\ncount    42118.000000\nmean        78.159945\nstd         48.755923\nmin          5.745000\n5%          17.234000\n25%         44.041000\n50%         68.934000\n75%         97.657000\n95%        178.080000\nmax        298.715000\nName: Area, dtype: float64\n\n=====================================\nWT"
     ]
    },
    {
     "name": "stdout",
     "output_type": "stream",
     "text": [
      "\n\n=====================================\ncount    33458.000000\nmean        98.598886\nstd         58.512851\nmin         11.489000\n5%          22.978000\n25%         55.530000\n50%         88.083000\n75%        128.294000\n95%        220.206000\nmax        298.715000\nName: Area, dtype: float64\n\n=====================================\nHTZ"
     ]
    },
    {
     "name": "stdout",
     "output_type": "stream",
     "text": [
      "\n\n=====================================\ncount    7404.000000\nmean      105.298512\nstd        58.806735\nmin        11.489000\n5%         22.978000\n25%        61.275000\n50%        97.657000\n75%       139.783000\n95%       218.291000\nmax       298.715000\nName: Area, dtype: float64\n\n=====================================\n"
     ]
    }
   ],
   "source": [
    "#genotype filtering\n",
    "list_WT = ['f-f_cre-neg','f-p_cre-neg','p-p_cre-neg','p-p_cre-pos']\n",
    "list_CKO = ['f-f_cre-pos']\n",
    "list_HTZ = ['f-p_cre-pos']\n",
    "\n",
    "pattern_HTZ = '|'.join(list_HTZ)\n",
    "pattern_WT = '|'.join(list_WT)\n",
    "pattern_CKO = '|'.join(list_CKO)\n",
    "\n",
    "CKO = input[input['Label'].str.contains(pattern_CKO)]\n",
    "print('CKO')\n",
    "print('\\n=====================================')\n",
    "print(CKO['Area'].describe(percentiles=[.05, .25, .75, .95]))\n",
    "print('\\n=====================================')\n",
    "\n",
    "WT = input[input['Label'].str.contains(pattern_WT)]\n",
    "print('WT')\n",
    "print('\\n=====================================')\n",
    "print(WT['Area'].describe(percentiles=[.05, .25, .75, .95]))\n",
    "print('\\n=====================================')\n",
    "\n",
    "HTZ = input[input['Label'].str.contains(pattern_HTZ)]\n",
    "print('HTZ')\n",
    "print('\\n=====================================')\n",
    "print(HTZ['Area'].describe(percentiles=[.05, .25, .75, .95]))\n",
    "\n",
    "print('\\n=====================================')"
   ]
  },
  {
   "cell_type": "code",
   "execution_count": 16,
   "metadata": {},
   "outputs": [
    {
     "name": "stdout",
     "output_type": "stream",
     "text": [
      "0.21987223625183105\n"
     ]
    },
    {
     "data": {
      "text/html": [
       "<div>\n",
       "<table border=\"1\" class=\"dataframe\">\n",
       "  <thead>\n",
       "    <tr style=\"text-align: right;\">\n",
       "      <th></th>\n",
       "      <th>Magnification</th>\n",
       "      <th>Slide</th>\n",
       "      <th>Slice</th>\n",
       "      <th>Genotype</th>\n",
       "      <th>Rm1m2, um</th>\n",
       "      <th>Racc, um</th>\n",
       "      <th>Gender</th>\n",
       "      <th>Hemisphere</th>\n",
       "      <th>Area</th>\n",
       "      <th>Folder</th>\n",
       "      <th>Filename</th>\n",
       "      <th>Comments</th>\n",
       "      <th>Slices</th>\n",
       "      <th>r3</th>\n",
       "      <th>dx</th>\n",
       "      <th>dy</th>\n",
       "      <th>dz</th>\n",
       "      <th>z-sections</th>\n",
       "      <th>z-depth</th>\n",
       "      <th>Usage</th>\n",
       "    </tr>\n",
       "  </thead>\n",
       "  <tbody>\n",
       "    <tr>\n",
       "      <th>47</th>\n",
       "      <td>10x</td>\n",
       "      <td>2</td>\n",
       "      <td>5</td>\n",
       "      <td>WT</td>\n",
       "      <td>559.05</td>\n",
       "      <td>392.99</td>\n",
       "      <td>female</td>\n",
       "      <td>right</td>\n",
       "      <td>both</td>\n",
       "      <td>2016-01-21_10x adult tests</td>\n",
       "      <td>10x_id8879_p-p_cre-pos_slide-2_slice-5</td>\n",
       "      <td>the left m2-m1 border is damaged, excluded fro...</td>\n",
       "      <td>50</td>\n",
       "      <td>NaN</td>\n",
       "      <td>1.3838</td>\n",
       "      <td>1.3838</td>\n",
       "      <td>1.6878</td>\n",
       "      <td>47</td>\n",
       "      <td>79.3266</td>\n",
       "      <td>NaN</td>\n",
       "    </tr>\n",
       "    <tr>\n",
       "      <th>48</th>\n",
       "      <td>10x</td>\n",
       "      <td>3</td>\n",
       "      <td>1</td>\n",
       "      <td>WT</td>\n",
       "      <td>423.44</td>\n",
       "      <td>273.99</td>\n",
       "      <td>female</td>\n",
       "      <td>left</td>\n",
       "      <td>both</td>\n",
       "      <td>2016-02-18_10x adult tests</td>\n",
       "      <td>10x_id8879_p-p_cre-pos_slide-3_slice-1</td>\n",
       "      <td>the right m2-m1 border is damaged, excluded fr...</td>\n",
       "      <td>62</td>\n",
       "      <td>NaN</td>\n",
       "      <td>1.3838</td>\n",
       "      <td>1.3838</td>\n",
       "      <td>1.6878</td>\n",
       "      <td>52</td>\n",
       "      <td>87.7656</td>\n",
       "      <td>NaN</td>\n",
       "    </tr>\n",
       "    <tr>\n",
       "      <th>49</th>\n",
       "      <td>10x</td>\n",
       "      <td>1</td>\n",
       "      <td>3</td>\n",
       "      <td>CKO</td>\n",
       "      <td>391.61</td>\n",
       "      <td>298.90</td>\n",
       "      <td>female</td>\n",
       "      <td>right</td>\n",
       "      <td>both</td>\n",
       "      <td>2016-02-19_10x adult tests</td>\n",
       "      <td>10x_id9334_f-f_cre-pos_slide-1_slice-3</td>\n",
       "      <td>NaN</td>\n",
       "      <td>49</td>\n",
       "      <td>NaN</td>\n",
       "      <td>1.3838</td>\n",
       "      <td>1.3838</td>\n",
       "      <td>1.6878</td>\n",
       "      <td>43</td>\n",
       "      <td>72.5754</td>\n",
       "      <td>NaN</td>\n",
       "    </tr>\n",
       "    <tr>\n",
       "      <th>50</th>\n",
       "      <td>25x</td>\n",
       "      <td>2</td>\n",
       "      <td>2</td>\n",
       "      <td>WT</td>\n",
       "      <td>547.98</td>\n",
       "      <td>NaN</td>\n",
       "      <td>male</td>\n",
       "      <td>left</td>\n",
       "      <td>both</td>\n",
       "      <td>2016-02-02_25x adult tests</td>\n",
       "      <td>25x_id8872_p-p_cre-neg_slide-2_slice-2_m2-m1_left</td>\n",
       "      <td>double blade m1, compared to CKO. in m1 observ...</td>\n",
       "      <td>150</td>\n",
       "      <td>182.66</td>\n",
       "      <td>0.5535</td>\n",
       "      <td>0.5535</td>\n",
       "      <td>1.1075</td>\n",
       "      <td>110</td>\n",
       "      <td>121.8250</td>\n",
       "      <td>NaN</td>\n",
       "    </tr>\n",
       "    <tr>\n",
       "      <th>51</th>\n",
       "      <td>25x</td>\n",
       "      <td>2</td>\n",
       "      <td>3</td>\n",
       "      <td>WT</td>\n",
       "      <td>NaN</td>\n",
       "      <td>NaN</td>\n",
       "      <td>male</td>\n",
       "      <td>left</td>\n",
       "      <td>m1</td>\n",
       "      <td>2016-01-26_25x adult tests</td>\n",
       "      <td>25x_id8872_p-p_cre-neg_slide-2_slice-3_m1_left</td>\n",
       "      <td>NaN</td>\n",
       "      <td>NaN</td>\n",
       "      <td>NaN</td>\n",
       "      <td>NaN</td>\n",
       "      <td>NaN</td>\n",
       "      <td>NaN</td>\n",
       "      <td>NaN</td>\n",
       "      <td>NaN</td>\n",
       "      <td>NaN</td>\n",
       "    </tr>\n",
       "  </tbody>\n",
       "</table>\n",
       "</div>"
      ]
     },
     "metadata": {},
     "output_type": "execute_result"
    }
   ],
   "source": [
    "start_time = time.time()\n",
    "metadata = pd.read_excel('data/adult tests analysis-14.xlsx', 1)\n",
    "elapsed_time = time.time() - start_time\n",
    "print(elapsed_time)\n",
    "metadata.tail()"
   ]
  },
  {
   "cell_type": "code",
   "execution_count": 38,
   "metadata": {},
   "outputs": [
    {
     "name": "stdout",
     "output_type": "stream",
     "text": [
      "initial preparation complete at\n12:33:05\n"
     ]
    }
   ],
   "source": [
    "#count the cells within \n",
    "#a certain ROI of \n",
    "#a certain slice\n",
    "#a certain slide\n",
    "#a certain hemisphere\n",
    "#a certain genotype\n",
    "\n",
    "\n",
    "#get primary counting\n",
    "countR = input[input['Hemisphere']=='right'].groupby('Label').count()\n",
    "countL = input[input['Hemisphere']=='left'].groupby('Label').count()\n",
    "\n",
    "# take just one column\n",
    "countRight = countR['Area']\n",
    "countLeft = countL['Area']\n",
    "\n",
    "#add discrimination column to the df\n",
    "indexesRight = pd.DataFrame({'Label':list(countRight.index)})\n",
    "indexesLeft = pd.DataFrame({'Label':list(countLeft.index)})\n",
    "\n",
    "#drop indexes\n",
    "countRight = countRight.reset_index(drop=True)\n",
    "countLeft = countLeft.reset_index(drop=True)\n",
    "\n",
    "#merge indexes and the initial count table\n",
    "resultRight = pd.concat([indexesRight, countRight], axis = 1)\n",
    "resultLeft = pd.concat([indexesLeft, countLeft], axis = 1)\n",
    "\n",
    "#discriminate 2hemispheres before the merge\n",
    "resultRight['Hemisphere']='right'\n",
    "resultLeft['Hemisphere']='left'\n",
    "\n",
    "resultBoth = pd.concat([resultRight, resultLeft])\n",
    "resultBoth=resultBoth.rename(columns = {'Area':'SomaNumber'})\n",
    "\n",
    "resultBoth = resultBoth.reset_index(drop=True)\n",
    "print('initial preparation complete at')\n",
    "print(time.strftime(\"%H:%M:%S\"))"
   ]
  },
  {
   "cell_type": "code",
   "execution_count": 41,
   "metadata": {},
   "outputs": [
    {
     "name": "stdout",
     "output_type": "stream",
     "text": [
      "file write complete at\n12:39:25\n"
     ]
    }
   ],
   "source": [
    "resultBoth['ROI']=''\n",
    "resultBoth['Key']=''\n",
    "\n",
    "\n",
    "\n",
    "for iRR in range(0,len(resultBoth)):\n",
    "    resultBoth['ROI'][iRR] = resultBoth['Label'][iRR][-2:]\n",
    "    resultBoth['Key'][iRR] = resultBoth['Label'][iRR][7:45]+'_slices-'+resultBoth['Label'][iRR][-9:-7]\n",
    "\n",
    "metadata['Key']=''\n",
    "\n",
    "for iM in range(0,len(metadata)):\n",
    "    metadata['Key'][iM] = metadata['Filename'][iM]+'_slices-'+str(metadata['Slices'][iM])[:-2]\n",
    "\n",
    "mergedBoth = pd.merge(left=resultBoth, right=metadata, left_on=[resultBoth.Key, resultBoth.Hemisphere], right_on=[metadata.Key, metadata.Hemisphere], how='inner')\n",
    "\n",
    "m1m2ROI = ['01','02','03','04','05','06','07','08','09','10']\n",
    "accROI = ['11','12','13']\n",
    "\n",
    "mergedBoth['SomaDensity'] = ''\n",
    "\n",
    "for iMB in range(0,len(mergedBoth)):\n",
    "    if mergedBoth['ROI'][iMB] in (m1m2ROI):\n",
    "        mergedBoth['SomaDensity'][iMB] = 1000000000*mergedBoth['SomaNumber'][iMB]/(mergedBoth['z-depth'][iMB]*np.pi*mergedBoth['Rm1m2, um'][iMB]*mergedBoth['Rm1m2, um'][iMB]/4)\n",
    "    if mergedBoth['ROI'][iMB] in (accROI):\n",
    "        mergedBoth['SomaDensity'][iMB] = 1000000000*mergedBoth['SomaNumber'][iMB]/(mergedBoth['z-depth'][iMB]*np.pi*mergedBoth['Racc, um'][iMB]*mergedBoth['Rm1m2, um'][iMB]/4)\n",
    "        \n",
    "\n",
    "resultBoth.to_excel('output/resultBoth.xls', sheet_name='Sheet1')\n",
    "metadata.to_excel('output/metadata.xls', sheet_name='Sheet1')\n",
    "mergedBoth.to_excel('output/mergedBoth.xls', sheet_name='Sheet1')\n",
    "\n",
    "print('file write complete at')\n",
    "print(time.strftime(\"%H:%M:%S\"))"
   ]
  },
  {
   "cell_type": "code",
   "execution_count": 8,
   "metadata": {},
   "outputs": [
    {
     "data": {
      "text/plain": [
       "<matplotlib.text.Text at 0x1f04b1bcfd0>"
      ]
     },
     "execution_count": 8,
     "metadata": {},
     "output_type": "execute_result"
    },
    {
     "data": {
      "image/png": "[encoded data removed]"
     },
     "metadata": {},
     "output_type": "display_data"
    }
   ],
   "source": [
    "#Area\n",
    "plt.figure(figsize=(12, 8));\n",
    "\n",
    "halpha = 0.4\n",
    "hbins = 51\n",
    "\n",
    "CKO['Area'].plot(kind='hist', stacked=True, bins=hbins, alpha=halpha,normed=True)\n",
    "WT['Area'].plot(kind='hist', stacked=True, bins=hbins, alpha=halpha,normed=True)\n",
    "HTZ['Area'].plot(kind='hist', stacked=True, bins=hbins, alpha=halpha,normed=True)\n",
    "\n",
    "plt.legend(['CKO','WT','HTZ'])\n",
    "plt.title('Area')"
   ]
  },
  {
   "cell_type": "code",
   "execution_count": 9,
   "metadata": {},
   "outputs": [
    {
     "data": {
      "text/plain": [
       "<matplotlib.text.Text at 0x1f04a3886a0>"
      ]
     },
     "execution_count": 9,
     "metadata": {},
     "output_type": "execute_result"
    },
    {
     "data": {
      "image/png": "[encoded data removed]"
     },
     "metadata": {},
     "output_type": "display_data"
    }
   ],
   "source": [
    "#Perim.\n",
    "plt.figure(figsize=(12, 8));\n",
    "\n",
    "halpha = 0.6\n",
    "hbins = 30\n",
    "\n",
    "CKO['Perim.'].plot(kind='hist', stacked=True, bins=hbins, alpha=halpha,normed=True)\n",
    "WT['Perim.'].plot(kind='hist', stacked=True, bins=hbins, alpha=halpha,normed=True)\n",
    "HTZ['Perim.'].plot(kind='hist', stacked=True, bins=hbins, alpha=halpha,normed=True)\n",
    "plt.legend(['CKO','WT','HTZ'])\n",
    "plt.title('Perim.')"
   ]
  },
  {
   "cell_type": "code",
   "execution_count": 14,
   "metadata": {},
   "outputs": [
    {
     "data": {
      "text/plain": [
       "<matplotlib.text.Text at 0x1f048176898>"
      ]
     },
     "execution_count": 14,
     "metadata": {},
     "output_type": "execute_result"
    },
    {
     "data": {
      "image/png": "[encoded data removed]"
     },
     "metadata": {},
     "output_type": "display_data"
    }
   ],
   "source": [
    "#AR\n",
    "plt.figure(figsize=(12, 8));\n",
    "\n",
    "halpha = 0.6\n",
    "hbins = 80\n",
    "\n",
    "CKO['AR'].plot(kind='hist', stacked=True, bins=hbins, alpha=halpha,normed=True)\n",
    "WT['AR'].plot(kind='hist', stacked=True, bins=hbins, alpha=halpha,normed=True)\n",
    "HTZ['AR'].plot(kind='hist', stacked=True, bins=hbins, alpha=halpha,normed=True)\n",
    "plt.legend(['CKO','WT','HTZ'])\n",
    "plt.title('AR')"
   ]
  },
  {
   "cell_type": "code",
   "execution_count": 183,
   "metadata": {},
   "outputs": [
    {
     "data": {
      "text/plain": [
       "<matplotlib.text.Text at 0x1fb1caa7198>"
      ]
     },
     "execution_count": 183,
     "metadata": {},
     "output_type": "execute_result"
    },
    {
     "data": {
      "image/png": "[encoded data removed]"
     },
     "metadata": {},
     "output_type": "display_data"
    }
   ],
   "source": [
    "#Roundness\n",
    "plt.figure(figsize=(12, 8));\n",
    "\n",
    "halpha = 0.6\n",
    "hbins = 20\n",
    "\n",
    "CKO['Round'].plot(kind='hist', stacked=True, bins=hbins, alpha=halpha,normed=True)\n",
    "WT['Round'].plot(kind='hist', stacked=True, bins=hbins, alpha=halpha,normed=True)\n",
    "HTZ['Round'].plot(kind='hist', stacked=True, bins=hbins, alpha=halpha,normed=True)\n",
    "plt.legend(['CKO','WT','HTZ'])\n",
    "plt.title('Roundness')"
   ]
  }
 ],
 "metadata": {
  "kernelspec": {
   "display_name": "Python 3",
   "language": "python",
   "name": "python3"
  },
  "language_info": {
   "codemirror_mode": {
    "name": "ipython",
    "version": 3
   },
   "file_extension": ".py",
   "mimetype": "text/x-python",
   "name": "python",
   "nbconvert_exporter": "python",
   "pygments_lexer": "ipython3",
   "version": "3.5.1"
  }
 },
 "nbformat": 4,
 "nbformat_minor": 0
}
